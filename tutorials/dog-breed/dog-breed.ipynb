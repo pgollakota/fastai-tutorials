{
 "cells": [
  {
   "cell_type": "markdown",
   "metadata": {},
   "source": [
    "## Pre"
   ]
  },
  {
   "cell_type": "code",
   "execution_count": 1,
   "metadata": {},
   "outputs": [],
   "source": [
    "%matplotlib inline\n",
    "\n",
    "import os.path\n",
    "\n",
    "import numpy as np\n",
    "import pandas as pd\n",
    "import matplotlib.pyplot as plt\n",
    "\n",
    "from importlib import reload\n",
    "\n",
    "import fastai.trainer\n",
    "import fastai.utils2\n",
    "import fastai.viz.image\n",
    "\n",
    "from torchvision import transforms\n",
    "import torch"
   ]
  },
  {
   "cell_type": "code",
   "execution_count": 2,
   "metadata": {},
   "outputs": [
    {
     "data": {
      "text/plain": [
       "<module 'fastai.viz.image' from '/Users/pgollakota/code/fastaiverse/fastai/fastai/viz/image.py'>"
      ]
     },
     "execution_count": 2,
     "metadata": {},
     "output_type": "execute_result"
    }
   ],
   "source": [
    "reload(fastai.trainer)\n",
    "reload(fastai.utils2)\n",
    "reload(fastai.viz.image)"
   ]
  },
  {
   "cell_type": "code",
   "execution_count": 3,
   "metadata": {},
   "outputs": [],
   "source": [
    "# define various directory locations\n",
    "data_dir = os.path.join(os.path.abspath(os.path.curdir), 'data/')\n",
    "labels_path = data_dir + 'images/labels.csv'\n",
    "image_dir = os.path.join(data_dir, 'images/train/')\n",
    "thumb_dir = os.path.join(data_dir, 'thumbs/train/')\n",
    "facets_dir = os.path.join(data_dir, 'facets/train/')"
   ]
  },
  {
   "cell_type": "markdown",
   "metadata": {},
   "source": [
    "## Visualize class label distributions and images, split train & val"
   ]
  },
  {
   "cell_type": "code",
   "execution_count": 4,
   "metadata": {},
   "outputs": [],
   "source": [
    "labels = pd.read_csv(labels_path)"
   ]
  },
  {
   "cell_type": "code",
   "execution_count": 5,
   "metadata": {},
   "outputs": [],
   "source": [
    "labels.set_index('id', drop=False, inplace=True)"
   ]
  },
  {
   "cell_type": "code",
   "execution_count": 6,
   "metadata": {},
   "outputs": [],
   "source": [
    "label_stats, label_plot = fastai.viz.image.visualize_classes(labels, 'breed')"
   ]
  },
  {
   "cell_type": "code",
   "execution_count": 7,
   "metadata": {},
   "outputs": [
    {
     "data": {
      "text/html": [
       "<div class=\"vega-embed\" id=\"4eca7972-abad-4c8e-ba63-09254b361c7d\"></div>\n",
       "\n",
       "<style>\n",
       ".vega-embed svg, .vega-embed canvas {\n",
       "  border: 1px dotted gray;\n",
       "}\n",
       "\n",
       ".vega-embed .vega-actions a {\n",
       "  margin-right: 6px;\n",
       "}\n",
       "</style>\n"
      ]
     },
     "metadata": {
      "jupyter-vega3": "#4eca7972-abad-4c8e-ba63-09254b361c7d"
     },
     "output_type": "display_data"
    },
    {
     "data": {
      "application/javascript": [
       "var spec = {\"mark\": \"bar\", \"encoding\": {\"x\": {\"field\": \"breed\", \"type\": \"nominal\", \"sort\": {\"op\": \"mean\", \"order\": \"descending\", \"field\": \"value\"}}, \"y\": {\"field\": \"value\", \"type\": \"quantitative\", \"stack\": null}, \"color\": {\"field\": \"variable\", \"type\": \"nominal\"}}, \"$schema\": \"https://vega.github.io/schema/vega-lite/v2.json\", \"width\": 450, \"height\": 300, \"selection\": {\"grid\": {\"type\": \"interval\", \"bind\": \"scales\"}}, \"data\": {\"values\": [{\"breed\": \"scottish_deerhound\", \"variable\": \"percent\", \"value\": 1.2326354920759146}, {\"breed\": \"maltese_dog\", \"variable\": \"percent\", \"value\": 1.144590099784778}, {\"breed\": \"afghan_hound\", \"variable\": \"percent\", \"value\": 1.1348072784190961}, {\"breed\": \"entlebucher\", \"variable\": \"percent\", \"value\": 1.1250244570534143}, {\"breed\": \"bernese_mountain_dog\", \"variable\": \"percent\", \"value\": 1.1152416356877324}, {\"breed\": \"shih-tzu\", \"variable\": \"percent\", \"value\": 1.0956759929563686}, {\"breed\": \"great_pyrenees\", \"variable\": \"percent\", \"value\": 1.0858931715906868}, {\"breed\": \"pomeranian\", \"variable\": \"percent\", \"value\": 1.0858931715906868}, {\"breed\": \"basenji\", \"variable\": \"percent\", \"value\": 1.076110350225005}, {\"breed\": \"samoyed\", \"variable\": \"percent\", \"value\": 1.066327528859323}, {\"breed\": \"tibetan_terrier\", \"variable\": \"percent\", \"value\": 1.0467618861279593}, {\"breed\": \"airedale\", \"variable\": \"percent\", \"value\": 1.0467618861279593}, {\"breed\": \"cairn\", \"variable\": \"percent\", \"value\": 1.0369790647622774}, {\"breed\": \"leonberg\", \"variable\": \"percent\", \"value\": 1.0369790647622774}, {\"breed\": \"japanese_spaniel\", \"variable\": \"percent\", \"value\": 1.0271962433965955}, {\"breed\": \"beagle\", \"variable\": \"percent\", \"value\": 1.0271962433965955}, {\"breed\": \"blenheim_spaniel\", \"variable\": \"percent\", \"value\": 0.99784777929955}, {\"breed\": \"australian_terrier\", \"variable\": \"percent\", \"value\": 0.99784777929955}, {\"breed\": \"miniature_pinscher\", \"variable\": \"percent\", \"value\": 0.99784777929955}, {\"breed\": \"irish_wolfhound\", \"variable\": \"percent\", \"value\": 0.9880649579338682}, {\"breed\": \"saluki\", \"variable\": \"percent\", \"value\": 0.9684993152025044}, {\"breed\": \"lakeland_terrier\", \"variable\": \"percent\", \"value\": 0.9684993152025044}, {\"breed\": \"papillon\", \"variable\": \"percent\", \"value\": 0.9391508511054588}, {\"breed\": \"siberian_husky\", \"variable\": \"percent\", \"value\": 0.929368029739777}, {\"breed\": \"whippet\", \"variable\": \"percent\", \"value\": 0.929368029739777}, {\"breed\": \"norwegian_elkhound\", \"variable\": \"percent\", \"value\": 0.929368029739777}, {\"breed\": \"pug\", \"variable\": \"percent\", \"value\": 0.9195852083740951}, {\"breed\": \"chow\", \"variable\": \"percent\", \"value\": 0.9098023870084132}, {\"breed\": \"pembroke\", \"variable\": \"percent\", \"value\": 0.9000195656427313}, {\"breed\": \"italian_greyhound\", \"variable\": \"percent\", \"value\": 0.9000195656427313}, {\"breed\": \"newfoundland\", \"variable\": \"percent\", \"value\": 0.8902367442770495}, {\"breed\": \"border_terrier\", \"variable\": \"percent\", \"value\": 0.8902367442770495}, {\"breed\": \"ibizan_hound\", \"variable\": \"percent\", \"value\": 0.8902367442770495}, {\"breed\": \"silky_terrier\", \"variable\": \"percent\", \"value\": 0.8804539229113676}, {\"breed\": \"lhasa\", \"variable\": \"percent\", \"value\": 0.8804539229113676}, {\"breed\": \"bedlington_terrier\", \"variable\": \"percent\", \"value\": 0.8706711015456857}, {\"breed\": \"dandie_dinmont\", \"variable\": \"percent\", \"value\": 0.8706711015456857}, {\"breed\": \"irish_setter\", \"variable\": \"percent\", \"value\": 0.860888280180004}, {\"breed\": \"rhodesian_ridgeback\", \"variable\": \"percent\", \"value\": 0.860888280180004}, {\"breed\": \"sealyham_terrier\", \"variable\": \"percent\", \"value\": 0.860888280180004}, {\"breed\": \"collie\", \"variable\": \"percent\", \"value\": 0.8511054588143221}, {\"breed\": \"old_english_sheepdog\", \"variable\": \"percent\", \"value\": 0.8511054588143221}, {\"breed\": \"boston_bull\", \"variable\": \"percent\", \"value\": 0.8511054588143221}, {\"breed\": \"english_foxhound\", \"variable\": \"percent\", \"value\": 0.8413226374486402}, {\"breed\": \"kelpie\", \"variable\": \"percent\", \"value\": 0.8413226374486402}, {\"breed\": \"schipperke\", \"variable\": \"percent\", \"value\": 0.8413226374486402}, {\"breed\": \"bouvier_des_flandres\", \"variable\": \"percent\", \"value\": 0.8413226374486402}, {\"breed\": \"african_hunting_dog\", \"variable\": \"percent\", \"value\": 0.8413226374486402}, {\"breed\": \"weimaraner\", \"variable\": \"percent\", \"value\": 0.8315398160829583}, {\"breed\": \"bloodhound\", \"variable\": \"percent\", \"value\": 0.8315398160829583}, {\"breed\": \"bluetick\", \"variable\": \"percent\", \"value\": 0.8315398160829583}, {\"breed\": \"labrador_retriever\", \"variable\": \"percent\", \"value\": 0.8217569947172765}, {\"breed\": \"saint_bernard\", \"variable\": \"percent\", \"value\": 0.8217569947172765}, {\"breed\": \"english_setter\", \"variable\": \"percent\", \"value\": 0.8119741733515946}, {\"breed\": \"norfolk_terrier\", \"variable\": \"percent\", \"value\": 0.8119741733515946}, {\"breed\": \"chesapeake_bay_retriever\", \"variable\": \"percent\", \"value\": 0.8119741733515946}, {\"breed\": \"wire-haired_fox_terrier\", \"variable\": \"percent\", \"value\": 0.8021913519859127}, {\"breed\": \"kerry_blue_terrier\", \"variable\": \"percent\", \"value\": 0.8021913519859127}, {\"breed\": \"yorkshire_terrier\", \"variable\": \"percent\", \"value\": 0.8021913519859127}, {\"breed\": \"groenendael\", \"variable\": \"percent\", \"value\": 0.8021913519859127}, {\"breed\": \"scotch_terrier\", \"variable\": \"percent\", \"value\": 0.8021913519859127}, {\"breed\": \"basset\", \"variable\": \"percent\", \"value\": 0.8021913519859127}, {\"breed\": \"irish_terrier\", \"variable\": \"percent\", \"value\": 0.8021913519859127}, {\"breed\": \"greater_swiss_mountain_dog\", \"variable\": \"percent\", \"value\": 0.8021913519859127}, {\"breed\": \"keeshond\", \"variable\": \"percent\", \"value\": 0.7924085306202309}, {\"breed\": \"malamute\", \"variable\": \"percent\", \"value\": 0.7924085306202309}, {\"breed\": \"gordon_setter\", \"variable\": \"percent\", \"value\": 0.7924085306202309}, {\"breed\": \"west_highland_white_terrier\", \"variable\": \"percent\", \"value\": 0.7924085306202309}, {\"breed\": \"mexican_hairless\", \"variable\": \"percent\", \"value\": 0.782625709254549}, {\"breed\": \"dingo\", \"variable\": \"percent\", \"value\": 0.782625709254549}, {\"breed\": \"toy_poodle\", \"variable\": \"percent\", \"value\": 0.782625709254549}, {\"breed\": \"clumber\", \"variable\": \"percent\", \"value\": 0.782625709254549}, {\"breed\": \"affenpinscher\", \"variable\": \"percent\", \"value\": 0.782625709254549}, {\"breed\": \"toy_terrier\", \"variable\": \"percent\", \"value\": 0.7728428878888671}, {\"breed\": \"welsh_springer_spaniel\", \"variable\": \"percent\", \"value\": 0.7728428878888671}, {\"breed\": \"miniature_poodle\", \"variable\": \"percent\", \"value\": 0.7728428878888671}, {\"breed\": \"standard_poodle\", \"variable\": \"percent\", \"value\": 0.7728428878888671}, {\"breed\": \"staffordshire_bullterrier\", \"variable\": \"percent\", \"value\": 0.7728428878888671}, {\"breed\": \"norwich_terrier\", \"variable\": \"percent\", \"value\": 0.7630600665231853}, {\"breed\": \"sussex_spaniel\", \"variable\": \"percent\", \"value\": 0.7630600665231853}, {\"breed\": \"appenzeller\", \"variable\": \"percent\", \"value\": 0.7630600665231853}, {\"breed\": \"miniature_schnauzer\", \"variable\": \"percent\", \"value\": 0.7630600665231853}, {\"breed\": \"irish_water_spaniel\", \"variable\": \"percent\", \"value\": 0.7630600665231853}, {\"breed\": \"black-and-tan_coonhound\", \"variable\": \"percent\", \"value\": 0.7532772451575034}, {\"breed\": \"dhole\", \"variable\": \"percent\", \"value\": 0.7434944237918215}, {\"breed\": \"rottweiler\", \"variable\": \"percent\", \"value\": 0.7434944237918215}, {\"breed\": \"shetland_sheepdog\", \"variable\": \"percent\", \"value\": 0.7434944237918215}, {\"breed\": \"cardigan\", \"variable\": \"percent\", \"value\": 0.7434944237918215}, {\"breed\": \"bull_mastiff\", \"variable\": \"percent\", \"value\": 0.7337116024261398}, {\"breed\": \"boxer\", \"variable\": \"percent\", \"value\": 0.7337116024261398}, {\"breed\": \"english_springer\", \"variable\": \"percent\", \"value\": 0.7337116024261398}, {\"breed\": \"german_short-haired_pointer\", \"variable\": \"percent\", \"value\": 0.7337116024261398}, {\"breed\": \"pekinese\", \"variable\": \"percent\", \"value\": 0.7337116024261398}, {\"breed\": \"borzoi\", \"variable\": \"percent\", \"value\": 0.7337116024261398}, {\"breed\": \"great_dane\", \"variable\": \"percent\", \"value\": 0.7337116024261398}, {\"breed\": \"american_staffordshire_terrier\", \"variable\": \"percent\", \"value\": 0.7239287810604579}, {\"breed\": \"cocker_spaniel\", \"variable\": \"percent\", \"value\": 0.7239287810604579}, {\"breed\": \"doberman\", \"variable\": \"percent\", \"value\": 0.7239287810604579}, {\"breed\": \"malinois\", \"variable\": \"percent\", \"value\": 0.714145959694776}, {\"breed\": \"brittany_spaniel\", \"variable\": \"percent\", \"value\": 0.714145959694776}, {\"breed\": \"flat-coated_retriever\", \"variable\": \"percent\", \"value\": 0.7043631383290941}, {\"breed\": \"redbone\", \"variable\": \"percent\", \"value\": 0.7043631383290941}, {\"breed\": \"border_collie\", \"variable\": \"percent\", \"value\": 0.7043631383290941}, {\"breed\": \"curly-coated_retriever\", \"variable\": \"percent\", \"value\": 0.7043631383290941}, {\"breed\": \"standard_schnauzer\", \"variable\": \"percent\", \"value\": 0.7043631383290941}, {\"breed\": \"soft-coated_wheaten_terrier\", \"variable\": \"percent\", \"value\": 0.6945803169634123}, {\"breed\": \"kuvasz\", \"variable\": \"percent\", \"value\": 0.6945803169634123}, {\"breed\": \"chihuahua\", \"variable\": \"percent\", \"value\": 0.6945803169634123}, {\"breed\": \"french_bulldog\", \"variable\": \"percent\", \"value\": 0.6847974955977304}, {\"breed\": \"vizsla\", \"variable\": \"percent\", \"value\": 0.6847974955977304}, {\"breed\": \"tibetan_mastiff\", \"variable\": \"percent\", \"value\": 0.6750146742320485}, {\"breed\": \"walker_hound\", \"variable\": \"percent\", \"value\": 0.6750146742320485}, {\"breed\": \"german_shepherd\", \"variable\": \"percent\", \"value\": 0.6750146742320485}, {\"breed\": \"otterhound\", \"variable\": \"percent\", \"value\": 0.6750146742320485}, {\"breed\": \"giant_schnauzer\", \"variable\": \"percent\", \"value\": 0.6750146742320485}, {\"breed\": \"brabancon_griffon\", \"variable\": \"percent\", \"value\": 0.6554490315006848}, {\"breed\": \"golden_retriever\", \"variable\": \"percent\", \"value\": 0.6554490315006848}, {\"breed\": \"komondor\", \"variable\": \"percent\", \"value\": 0.6554490315006848}, {\"breed\": \"briard\", \"variable\": \"percent\", \"value\": 0.6456662101350029}, {\"breed\": \"eskimo_dog\", \"variable\": \"percent\", \"value\": 0.6456662101350029}]}};\n",
       "var selector = \"#4eca7972-abad-4c8e-ba63-09254b361c7d\";\n",
       "var type = \"vega-lite\";\n",
       "\n",
       "var output_area = this;\n",
       "require(['nbextensions/jupyter-vega3/index'], function(vega) {\n",
       "  vega.render(selector, spec, type, output_area);\n",
       "}, function (err) {\n",
       "  if (err.requireType !== 'scripterror') {\n",
       "    throw(err);\n",
       "  }\n",
       "});\n"
      ]
     },
     "metadata": {
      "jupyter-vega3": "#4eca7972-abad-4c8e-ba63-09254b361c7d"
     },
     "output_type": "display_data"
    },
    {
     "data": {
      "image/png": "[encoded data removed]"
     },
     "metadata": {
      "jupyter-vega3": "#4eca7972-abad-4c8e-ba63-09254b361c7d"
     },
     "output_type": "display_data"
    }
   ],
   "source": [
    "label_plot"
   ]
  },
  {
   "cell_type": "code",
   "execution_count": 8,
   "metadata": {},
   "outputs": [],
   "source": [
    "#FIXME: Change api to train_test_split (a la sklearn)?\n",
    "labels = fastai.utils2.preprocessing.split_train_valid(labels, 'id', 'breed', 0.2) "
   ]
  },
  {
   "cell_type": "code",
   "execution_count": 9,
   "metadata": {},
   "outputs": [
    {
     "data": {
      "application/vnd.jupyter.widget-view+json": {
       "model_id": "3f28ad6274324c59946f61d54c2a5b3f",
       "version_major": 2,
       "version_minor": 0
      },
      "text/html": [
       "<p>Failed to display Jupyter Widget of type <code>HBox</code>.</p>\n",
       "<p>\n",
       "  If you're reading this message in the Jupyter Notebook or JupyterLab Notebook, it may mean\n",
       "  that the widgets JavaScript is still loading. If this message persists, it\n",
       "  likely means that the widgets JavaScript library is either not installed or\n",
       "  not enabled. See the <a href=\"https://ipywidgets.readthedocs.io/en/stable/user_install.html\">Jupyter\n",
       "  Widgets Documentation</a> for setup instructions.\n",
       "</p>\n",
       "<p>\n",
       "  If you're reading this message in another frontend (for example, a static\n",
       "  rendering on GitHub or <a href=\"https://nbviewer.jupyter.org/\">NBViewer</a>),\n",
       "  it may mean that your frontend doesn't currently support widgets.\n",
       "</p>\n"
      ],
      "text/plain": [
       "HBox(children=(IntProgress(value=0, description='Generating and saving thumbnails', max=10222), HTML(value='')))"
      ]
     },
     "metadata": {},
     "output_type": "display_data"
    },
    {
     "name": "stdout",
     "output_type": "stream",
     "text": [
      "\n"
     ]
    },
    {
     "data": {
      "application/vnd.jupyter.widget-view+json": {
       "model_id": "423195d915394ccc80fae25433c9bcf9",
       "version_major": 2,
       "version_minor": 0
      },
      "text/html": [
       "<p>Failed to display Jupyter Widget of type <code>HBox</code>.</p>\n",
       "<p>\n",
       "  If you're reading this message in the Jupyter Notebook or JupyterLab Notebook, it may mean\n",
       "  that the widgets JavaScript is still loading. If this message persists, it\n",
       "  likely means that the widgets JavaScript library is either not installed or\n",
       "  not enabled. See the <a href=\"https://ipywidgets.readthedocs.io/en/stable/user_install.html\">Jupyter\n",
       "  Widgets Documentation</a> for setup instructions.\n",
       "</p>\n",
       "<p>\n",
       "  If you're reading this message in another frontend (for example, a static\n",
       "  rendering on GitHub or <a href=\"https://nbviewer.jupyter.org/\">NBViewer</a>),\n",
       "  it may mean that your frontend doesn't currently support widgets.\n",
       "</p>\n"
      ],
      "text/plain": [
       "HBox(children=(IntProgress(value=0, description='Creating sprite', max=10222), HTML(value='')))"
      ]
     },
     "metadata": {},
     "output_type": "display_data"
    },
    {
     "name": "stdout",
     "output_type": "stream",
     "text": [
      "\n",
      "CPU times: user 1min 26s, sys: 6.67 s, total: 1min 33s\n",
      "Wall time: 1min 40s\n"
     ]
    }
   ],
   "source": [
    "%%time\n",
    "labels, metadata_fpath, sprite_fpath  = fastai.viz.image.generate_facets_dive_data(\n",
    "    labels, image_dir=image_dir, thumb_dir=thumb_dir, facets_dir=facets_dir)"
   ]
  },
  {
   "cell_type": "code",
   "execution_count": 10,
   "metadata": {},
   "outputs": [],
   "source": [
    "#fastai.viz.image.display_facets_dive(metadata_fpath, sprite_fpath)"
   ]
  },
  {
   "cell_type": "markdown",
   "metadata": {},
   "source": [
    "## Load Data"
   ]
  },
  {
   "cell_type": "code",
   "execution_count": 11,
   "metadata": {},
   "outputs": [
    {
     "name": "stdout",
     "output_type": "stream",
     "text": [
      "CPU times: user 8.6 s, sys: 145 ms, total: 8.75 s\n",
      "Wall time: 8.98 s\n"
     ]
    }
   ],
   "source": [
    "%%time\n",
    "fastai.utils2.data.set_image_paths(labels, 'id', 'path', image_dir)"
   ]
  },
  {
   "cell_type": "code",
   "execution_count": 12,
   "metadata": {},
   "outputs": [],
   "source": [
    "#FIXME: Where are then numbers from?\n",
    "mean_img = [0.485, 0.456, 0.406]\n",
    "std_img = [0.229, 0.224, 0.225]\n",
    "\n",
    "normalize = transforms.Normalize(mean=mean_img, std=std_img)\n",
    "\n",
    "tfm = transforms.Compose([\n",
    "        transforms.RandomResizedCrop(224),\n",
    "        transforms.RandomHorizontalFlip(),\n",
    "        transforms.ToTensor(),\n",
    "        normalize\n",
    "])\n",
    "ds = fastai.utils2.data.ImageDataset(labels.loc[labels.loc[:, 'is_validation'] == True, :], \n",
    "                 'id', 'breed', 'path', root=image_dir, transform=tfm)\n",
    "train_loader = torch.utils.data.DataLoader(\n",
    "    ds, batch_size=64, shuffle=True, num_workers=2, pin_memory=True)\n",
    "\n",
    "#sample_batch = next(iter(train_loader))\n",
    "#denormed_img = denorm(z[0][30].numpy(), mean_img, std_img)\n",
    "#plt.imshow(np.transpose(denormed_img, (1, 2, 0)))"
   ]
  },
  {
   "cell_type": "markdown",
   "metadata": {},
   "source": [
    "## Fine Tune Model"
   ]
  },
  {
   "cell_type": "code",
   "execution_count": 13,
   "metadata": {},
   "outputs": [],
   "source": [
    "# Trainer(model, dataloaders, optimizer=None, scheduler=None, criterion=None, callbacks=None, metrics=None)\n",
    "# 1. Load model\n",
    "# 2. Modify model as needed e.g. remove layers, add new layers, freeze layer (using the fine_tuner utilities for this)\n",
    "# 3. Define the optimizer (for the modified model above)\n",
    "# 4. Define the critierion for optimization\n",
    "# 5. Create trainer with the modified model, optimizer and criterion\n",
    "# 6. Train"
   ]
  },
  {
   "cell_type": "code",
   "execution_count": 14,
   "metadata": {},
   "outputs": [],
   "source": [
    "from torch import nn, optim\n",
    "from torchvision.models import resnet34"
   ]
  },
  {
   "cell_type": "code",
   "execution_count": 15,
   "metadata": {},
   "outputs": [
    {
     "data": {
      "text/plain": [
       "<module 'fastai.fine_tuner' from '/Users/pgollakota/code/fastaiverse/fastai/fastai/fine_tuner.py'>"
      ]
     },
     "execution_count": 15,
     "metadata": {},
     "output_type": "execute_result"
    }
   ],
   "source": [
    "import fastai.fine_tuner\n",
    "reload(fastai.fine_tuner)"
   ]
  },
  {
   "cell_type": "code",
   "execution_count": 16,
   "metadata": {},
   "outputs": [],
   "source": [
    "m = resnet34()"
   ]
  },
  {
   "cell_type": "code",
   "execution_count": 17,
   "metadata": {},
   "outputs": [],
   "source": [
    "m2 = fastai.fine_tuner.pop_classifier(m)"
   ]
  },
  {
   "cell_type": "code",
   "execution_count": 18,
   "metadata": {},
   "outputs": [],
   "source": [
    "class AdaptiveConcatPool2d(nn.Module):\n",
    "    def __init__(self, sz=None):\n",
    "        super().__init__()\n",
    "        sz = sz or (1,1)\n",
    "        self.ap = nn.AdaptiveAvgPool2d(sz)\n",
    "        self.mp = nn.AdaptiveMaxPool2d(sz)\n",
    "    def forward(self, x): return torch.cat([self.mp(x), self.ap(x)], 1)"
   ]
  },
  {
   "cell_type": "code",
   "execution_count": 19,
   "metadata": {},
   "outputs": [],
   "source": [
    "from collections import OrderedDict\n",
    "\n",
    "pooler = AdaptiveConcatPool2d()\n",
    "classifier = nn.Sequential(\n",
    "    fastai.trainer.Flatten(),\n",
    "    nn.BatchNorm1d(1024, eps=1e-05, momentum=0.1, affine=True),\n",
    "    nn.Linear(in_features=1024, out_features=512, bias=True),\n",
    "    nn.ReLU(),\n",
    "    nn.BatchNorm1d(512, eps=1e-05, momentum=0.1, affine=True),\n",
    "    nn.Dropout(p=0.5),\n",
    "    nn.Linear(in_features=512, out_features=120, bias=True),\n",
    "    nn.LogSoftmax(dim=1)\n",
    ")\n",
    "\n",
    "lyrs = OrderedDict([\n",
    "    ('pooler', pooler),\n",
    "    ('classifier', classifier)\n",
    "])\n",
    "m3 = fastai.fine_tuner.add_layers(m2, lyrs)"
   ]
  },
  {
   "cell_type": "code",
   "execution_count": 20,
   "metadata": {},
   "outputs": [],
   "source": [
    "#m2 = fastai.fine_tuner.replace_classifier(m, nn.Linear(in_features=512, out_features=100, bias=True))"
   ]
  },
  {
   "cell_type": "markdown",
   "metadata": {},
   "source": [
    "## Trainer"
   ]
  },
  {
   "cell_type": "code",
   "execution_count": 25,
   "metadata": {},
   "outputs": [
    {
     "data": {
      "text/plain": [
       "<module 'fastai.utils2.data' from '/Users/pgollakota/code/fastaiverse/fastai/fastai/utils2/data.py'>"
      ]
     },
     "execution_count": 25,
     "metadata": {},
     "output_type": "execute_result"
    }
   ],
   "source": [
    "import fastai.trainer\n",
    "reload(fastai.trainer)\n",
    "import fastai.utils2.data\n",
    "reload(fastai.utils2.data)"
   ]
  },
  {
   "cell_type": "code",
   "execution_count": 26,
   "metadata": {},
   "outputs": [],
   "source": [
    "mean_img = [0.485, 0.456, 0.406]\n",
    "std_img = [0.229, 0.224, 0.225]\n",
    "\n",
    "normalize = transforms.Normalize(mean=mean_img, std=std_img)\n",
    "\n",
    "tfm = transforms.Compose([\n",
    "    transforms.transforms.RandomResizedCrop(224),\n",
    "    transforms.ToTensor(),\n",
    "    normalize\n",
    "])\n",
    "\n",
    "train_ds = fastai.utils2.data.ImageDataset(labels.loc[labels.loc[:, 'is_validation'] == False, :], \n",
    "                 'id', 'breed', 'path', root=image_dir, transform=tfm)\n",
    "train_loader = torch.utils.data.DataLoader(\n",
    "    train_ds, batch_size=128, shuffle=False, num_workers=1, pin_memory=True)\n",
    "\n",
    "val_ds = fastai.utils2.data.ImageDataset(labels.loc[labels.loc[:, 'is_validation'] == True, :], \n",
    "                 'id', 'breed', 'path', root=image_dir, transform=tfm)\n",
    "val_loader = torch.utils.data.DataLoader(\n",
    "    val_ds, batch_size=16, shuffle=False, num_workers=1, pin_memory=True)\n",
    "\n",
    "opt = optim.SGD(m3.parameters(), lr = 0.01, momentum=0.9)\n",
    "t = fastai.trainer.Trainer(m3, {'train': train_loader, 'val': val_loader}, optimizer=opt, criterion=nn.NLLLoss())"
   ]
  },
  {
   "cell_type": "code",
   "execution_count": null,
   "metadata": {},
   "outputs": [
    {
     "data": {
      "application/vnd.jupyter.widget-view+json": {
       "model_id": "c93ee7baada24dd2b26425cbcdccb91a",
       "version_major": 2,
       "version_minor": 0
      },
      "text/html": [
       "<p>Failed to display Jupyter Widget of type <code>HBox</code>.</p>\n",
       "<p>\n",
       "  If you're reading this message in the Jupyter Notebook or JupyterLab Notebook, it may mean\n",
       "  that the widgets JavaScript is still loading. If this message persists, it\n",
       "  likely means that the widgets JavaScript library is either not installed or\n",
       "  not enabled. See the <a href=\"https://ipywidgets.readthedocs.io/en/stable/user_install.html\">Jupyter\n",
       "  Widgets Documentation</a> for setup instructions.\n",
       "</p>\n",
       "<p>\n",
       "  If you're reading this message in another frontend (for example, a static\n",
       "  rendering on GitHub or <a href=\"https://nbviewer.jupyter.org/\">NBViewer</a>),\n",
       "  it may mean that your frontend doesn't currently support widgets.\n",
       "</p>\n"
      ],
      "text/plain": [
       "HBox(children=(IntProgress(value=0, description='Epochs', max=1), HTML(value='')))"
      ]
     },
     "metadata": {},
     "output_type": "display_data"
    },
    {
     "name": "stdout",
     "output_type": "stream",
     "text": [
      "0\n"
     ]
    }
   ],
   "source": [
    "t.fit(1)"
   ]
  },
  {
   "cell_type": "code",
   "execution_count": null,
   "metadata": {},
   "outputs": [],
   "source": [
    "z = next(res)"
   ]
  },
  {
   "cell_type": "code",
   "execution_count": null,
   "metadata": {},
   "outputs": [],
   "source": [
    "z"
   ]
  },
  {
   "cell_type": "code",
   "execution_count": null,
   "metadata": {},
   "outputs": [],
   "source": [
    "np.exp(z[0][0]) + np.exp(z[0][1])"
   ]
  },
  {
   "cell_type": "code",
   "execution_count": null,
   "metadata": {},
   "outputs": [],
   "source": [
    "assert False"
   ]
  },
  {
   "cell_type": "code",
   "execution_count": null,
   "metadata": {},
   "outputs": [],
   "source": []
  },
  {
   "cell_type": "markdown",
   "metadata": {
    "heading_collapsed": true
   },
   "source": [
    "## Junk"
   ]
  },
  {
   "cell_type": "code",
   "execution_count": null,
   "metadata": {
    "hidden": true
   },
   "outputs": [],
   "source": [
    "from torchvision.models import resnet34\n",
    "\n",
    "model = resnet34()\n",
    "# model.cuda()???\n",
    "optimizer = optim.SGD(model.parameters(), lr=0.01, momentum=0.9)\n",
    "criterion = nn.NLLLoss()"
   ]
  },
  {
   "cell_type": "code",
   "execution_count": null,
   "metadata": {
    "hidden": true
   },
   "outputs": [],
   "source": [
    "from torchvision.models import resnet34\n",
    "from tensorboardX import SummaryWriter\n",
    "from torch.autograd import Variable\n",
    "\n",
    "import torch\n",
    "dummy_input = Variable(torch.rand(1, 3, 224, 224))\n",
    "model = resnet34()\n",
    "with SummaryWriter(comment='resnet34', log_dir='data/tensorboard/runs') as w:\n",
    "    w.add_graph(model, (dummy_input, ))"
   ]
  },
  {
   "cell_type": "code",
   "execution_count": null,
   "metadata": {
    "hidden": true
   },
   "outputs": [],
   "source": [
    "from fastai.dataset import ImageClassifierData\n",
    "arch = resnet34\n",
    "sz = 224\n",
    "data = ImageClassifierData.from_csv(\n",
    "    PATH,\n",
    "    folder='images/train',\n",
    "    csv_fname=PATH+'/images/train/labels.csv',\n",
    "    tfms=tfms_from_model(arch, sz))\n",
    "learn = ConvLearner.pretrained(arch, data, precompute=True)\n",
    "learn.fit(0.01, 3)"
   ]
  },
  {
   "cell_type": "code",
   "execution_count": null,
   "metadata": {
    "hidden": true
   },
   "outputs": [],
   "source": [
    "model"
   ]
  },
  {
   "cell_type": "code",
   "execution_count": null,
   "metadata": {
    "hidden": true
   },
   "outputs": [],
   "source": [
    "def get_val_index(labels_df):\n",
    "    lbls = labels_df.sort_index().reset_index()\n",
    "    return lbls[lbls.is_validation].index"
   ]
  },
  {
   "cell_type": "code",
   "execution_count": null,
   "metadata": {
    "hidden": true
   },
   "outputs": [],
   "source": [
    "val_idxs = get_val_index(labels)"
   ]
  },
  {
   "cell_type": "code",
   "execution_count": null,
   "metadata": {
    "hidden": true
   },
   "outputs": [],
   "source": [
    "from fastai.transforms import *\n",
    "from fastai.conv_learner import *\n",
    "from fastai.model import *\n",
    "from fastai.dataset import *\n",
    "from fastai.sgdr import *\n",
    "from fastai.plots import *"
   ]
  },
  {
   "cell_type": "code",
   "execution_count": null,
   "metadata": {
    "hidden": true
   },
   "outputs": [],
   "source": [
    "arch=resnet34"
   ]
  },
  {
   "cell_type": "code",
   "execution_count": null,
   "metadata": {
    "hidden": true
   },
   "outputs": [],
   "source": [
    "sz=224"
   ]
  },
  {
   "cell_type": "code",
   "execution_count": null,
   "metadata": {
    "hidden": true
   },
   "outputs": [],
   "source": [
    "tfms = tfms_from_model(arch, sz)"
   ]
  },
  {
   "cell_type": "code",
   "execution_count": null,
   "metadata": {
    "hidden": true
   },
   "outputs": [],
   "source": [
    "inception_stats = ([0.5, 0.5, 0.5], [0.5, 0.5, 0.5])"
   ]
  },
  {
   "cell_type": "code",
   "execution_count": null,
   "metadata": {
    "hidden": true
   },
   "outputs": [],
   "source": [
    "# Data loading code\n",
    "import os\n",
    "from torchvision import transforms\n",
    "from torchvision import datasets\n",
    "import torch\n",
    "#from torch.utils.data import transforms\n",
    "traindir = os.path.join(os.getcwd(), 'train')\n",
    "valdir = os.path.join(os.getcwd(), 'val')\n",
    "normalize = transforms.Normalize(mean=[0.485, 0.456, 0.406],\n",
    "                                 std=[0.229, 0.224, 0.225])\n",
    "\n",
    "train_loader = torch.utils.data.DataLoader(\n",
    "    datasets.ImageFolder(traindir, transforms.Compose([\n",
    "        transforms.RandomResizedCrop(224),\n",
    "        transforms.RandomHorizontalFlip(),\n",
    "        transforms.ToTensor(),\n",
    "        normalize,\n",
    "    ])),\n",
    "    batch_size=args.batch_size, shuffle=True,\n",
    "    num_workers=args.workers, pin_memory=True)\n",
    "\n",
    "torchvision.models.resnet34(pretrained=True)"
   ]
  },
  {
   "cell_type": "code",
   "execution_count": null,
   "metadata": {
    "hidden": true
   },
   "outputs": [],
   "source": []
  },
  {
   "cell_type": "code",
   "execution_count": null,
   "metadata": {
    "hidden": true
   },
   "outputs": [],
   "source": [
    "val_idxs"
   ]
  },
  {
   "cell_type": "code",
   "execution_count": null,
   "metadata": {
    "hidden": true
   },
   "outputs": [],
   "source": [
    "len(val_idxs)"
   ]
  },
  {
   "cell_type": "code",
   "execution_count": null,
   "metadata": {
    "hidden": true
   },
   "outputs": [],
   "source": [
    "len(set(val_idxs))"
   ]
  },
  {
   "cell_type": "code",
   "execution_count": null,
   "metadata": {
    "hidden": true
   },
   "outputs": [],
   "source": [
    "PATH"
   ]
  },
  {
   "cell_type": "code",
   "execution_count": null,
   "metadata": {
    "hidden": true
   },
   "outputs": [],
   "source": [
    "data = ImageClassifierData.from_csv(PATH, PATH+'images/train', PATH+'images/train/labels.csv', val_idxs=val_idxs, suffix='.jpg', tfms=tfms)"
   ]
  },
  {
   "cell_type": "code",
   "execution_count": null,
   "metadata": {
    "hidden": true
   },
   "outputs": [],
   "source": [
    "learn = ConvLearner.pretrained(arch, data, precompute=True)"
   ]
  },
  {
   "cell_type": "code",
   "execution_count": null,
   "metadata": {
    "hidden": true
   },
   "outputs": [],
   "source": [
    "learn.model"
   ]
  },
  {
   "cell_type": "code",
   "execution_count": null,
   "metadata": {
    "hidden": true
   },
   "outputs": [],
   "source": [
    "lrf=learn.lr_find()"
   ]
  },
  {
   "cell_type": "code",
   "execution_count": null,
   "metadata": {
    "hidden": true
   },
   "outputs": [],
   "source": [
    "learn.sched.plot()"
   ]
  },
  {
   "cell_type": "code",
   "execution_count": null,
   "metadata": {
    "hidden": true
   },
   "outputs": [],
   "source": [
    "learn = ConvLearner.pretrained(arch, data, precompute=True)"
   ]
  },
  {
   "cell_type": "code",
   "execution_count": null,
   "metadata": {
    "hidden": true
   },
   "outputs": [],
   "source": [
    "learn.fit(0.1, 5)"
   ]
  },
  {
   "cell_type": "code",
   "execution_count": null,
   "metadata": {
    "hidden": true
   },
   "outputs": [],
   "source": [
    "learn.data."
   ]
  },
  {
   "cell_type": "code",
   "execution_count": null,
   "metadata": {
    "hidden": true
   },
   "outputs": [],
   "source": [
    "log_preds = learn.predict()"
   ]
  },
  {
   "cell_type": "code",
   "execution_count": null,
   "metadata": {
    "hidden": true
   },
   "outputs": [],
   "source": [
    "log_preds"
   ]
  },
  {
   "cell_type": "code",
   "execution_count": null,
   "metadata": {
    "hidden": true
   },
   "outputs": [],
   "source": [
    "len(data.val_y)"
   ]
  },
  {
   "cell_type": "code",
   "execution_count": null,
   "metadata": {
    "hidden": true
   },
   "outputs": [],
   "source": [
    "data.classes[:10]"
   ]
  },
  {
   "cell_type": "code",
   "execution_count": null,
   "metadata": {
    "hidden": true
   },
   "outputs": [],
   "source": [
    "preds = np.argmax(log_preds, axis=1)"
   ]
  },
  {
   "cell_type": "code",
   "execution_count": null,
   "metadata": {
    "hidden": true
   },
   "outputs": [],
   "source": []
  },
  {
   "cell_type": "code",
   "execution_count": null,
   "metadata": {
    "hidden": true
   },
   "outputs": [],
   "source": [
    "data.classes[85]"
   ]
  },
  {
   "cell_type": "code",
   "execution_count": null,
   "metadata": {
    "hidden": true
   },
   "outputs": [],
   "source": [
    "log_preds.shape"
   ]
  },
  {
   "cell_type": "code",
   "execution_count": null,
   "metadata": {
    "hidden": true
   },
   "outputs": [],
   "source": [
    "log_preds_df = pd.DataFrame(log_preds, columns=data.classes, \n",
    "                            index=[x.split('/')[-1].split('.')[0] for x in data.val_ds.fnames])"
   ]
  },
  {
   "cell_type": "code",
   "execution_count": null,
   "metadata": {
    "hidden": true
   },
   "outputs": [],
   "source": [
    "log_preds_df"
   ]
  },
  {
   "cell_type": "code",
   "execution_count": null,
   "metadata": {
    "hidden": true
   },
   "outputs": [],
   "source": [
    "nlargest = 3\n",
    "order = np.argsort(-log_preds_df.values, axis=1)[:, :nlargest]"
   ]
  },
  {
   "cell_type": "code",
   "execution_count": null,
   "metadata": {
    "hidden": true
   },
   "outputs": [],
   "source": [
    "order"
   ]
  },
  {
   "cell_type": "code",
   "execution_count": null,
   "metadata": {
    "hidden": true
   },
   "outputs": [],
   "source": [
    "result = pd.DataFrame(log_preds_df.columns[order], \n",
    "                      columns=['top{}'.format(i) for i in range(1, nlargest+1)],\n",
    "                      index=log_preds_df.index)"
   ]
  },
  {
   "cell_type": "code",
   "execution_count": null,
   "metadata": {
    "hidden": true
   },
   "outputs": [],
   "source": [
    "result"
   ]
  },
  {
   "cell_type": "code",
   "execution_count": null,
   "metadata": {
    "hidden": true
   },
   "outputs": [],
   "source": [
    "r = pd.merge(labels, result, left_index=True, right_index=True)"
   ]
  },
  {
   "cell_type": "code",
   "execution_count": null,
   "metadata": {
    "hidden": true
   },
   "outputs": [],
   "source": [
    "(r.breed != r.top1).sum()"
   ]
  },
  {
   "cell_type": "code",
   "execution_count": null,
   "metadata": {
    "hidden": true
   },
   "outputs": [],
   "source": [
    "382/2045"
   ]
  },
  {
   "cell_type": "markdown",
   "metadata": {
    "heading_collapsed": true
   },
   "source": [
    "## Transfer learning"
   ]
  },
  {
   "cell_type": "code",
   "execution_count": null,
   "metadata": {
    "hidden": true
   },
   "outputs": [],
   "source": [
    "# License: BSD\n",
    "# Author: Sasank Chilamkurthy\n",
    "\n",
    "import torch\n",
    "import torch.nn as nn\n",
    "import torch.optim as optim\n",
    "from torch.optim import lr_scheduler\n",
    "from torch.autograd import Variable\n",
    "import numpy as np\n",
    "import torchvision\n",
    "from torchvision import datasets, models, transforms\n",
    "import matplotlib.pyplot as plt\n",
    "import time\n",
    "import os\n",
    "import copy\n",
    "\n",
    "plt.ion()   # interactive mode\n",
    "\n",
    "\n",
    "data_transforms = {\n",
    "    'train': transforms.Compose([\n",
    "        transforms.RandomSizedCrop(224),\n",
    "        transforms.RandomHorizontalFlip(),\n",
    "        transforms.ToTensor(),\n",
    "        transforms.Normalize([0.485, 0.456, 0.406], [0.229, 0.224, 0.225])\n",
    "    ]),\n",
    "    'val': transforms.Compose([\n",
    "        transforms.Scale(256),\n",
    "        transforms.CenterCrop(224),\n",
    "        transforms.ToTensor(),\n",
    "        transforms.Normalize([0.485, 0.456, 0.406], [0.229, 0.224, 0.225])\n",
    "    ]),\n",
    "}\n",
    "\n",
    "data_dir = PATH\n",
    "image_datasets = {x: datasets.ImageFolder(os.path.join(data_dir, x),\n",
    "                                          data_transforms[x])\n",
    "                  for x in ['train', 'val']}\n",
    "dataloaders = {x: torch.utils.data.DataLoader(image_datasets[x], batch_size=4,\n",
    "                                             shuffle=True, num_workers=4)\n",
    "              for x in ['train', 'val']}\n",
    "dataset_sizes = {x: len(image_datasets[x]) for x in ['train', 'val']}\n",
    "class_names = image_datasets['train'].classes\n",
    "\n",
    "use_gpu = torch.cuda.is_available()"
   ]
  },
  {
   "cell_type": "code",
   "execution_count": null,
   "metadata": {
    "hidden": true
   },
   "outputs": [],
   "source": [
    "criterion = nn.CrossEntropyLoss()\n",
    "optimizer = optim.SGD(net.parameters(), lr=0.001, momentum=0.9)"
   ]
  },
  {
   "cell_type": "code",
   "execution_count": null,
   "metadata": {
    "hidden": true
   },
   "outputs": [],
   "source": [
    "def train_model(model, criterion, optimizer, scheduler, num_epochs=25):\n",
    "    since = time.time()\n",
    "\n",
    "    best_model_wts = copy.deepcopy(model.state_dict())\n",
    "    best_acc = 0.0\n",
    "\n",
    "    for epoch in range(num_epochs):\n",
    "        print('Epoch {}/{}'.format(epoch, num_epochs - 1))\n",
    "        print('-' * 10)\n",
    "\n",
    "        # Each epoch has a training and validation phase\n",
    "        for phase in ['train', 'val']:\n",
    "            if phase == 'train':\n",
    "                scheduler.step()\n",
    "                model.train(True)  # Set model to training mode\n",
    "            else:\n",
    "                model.train(False)  # Set model to evaluate mode\n",
    "\n",
    "            running_loss = 0.0\n",
    "            running_corrects = 0\n",
    "\n",
    "            # Iterate over data.\n",
    "            for data in dataloaders[phase]:\n",
    "                # get the inputs\n",
    "                inputs, labels = data\n",
    "\n",
    "                # wrap them in Variable\n",
    "                if use_gpu:\n",
    "                    inputs = Variable(inputs.cuda())\n",
    "                    labels = Variable(labels.cuda())\n",
    "                else:\n",
    "                    inputs, labels = Variable(inputs), Variable(labels)\n",
    "\n",
    "                # zero the parameter gradients\n",
    "                optimizer.zero_grad()\n",
    "\n",
    "                # forward\n",
    "                outputs = model(inputs)\n",
    "                _, preds = torch.max(outputs.data, 1)\n",
    "                loss = criterion(outputs, labels)\n",
    "\n",
    "                # backward + optimize only if in training phase\n",
    "                if phase == 'train':\n",
    "                    loss.backward()\n",
    "                    optimizer.step()\n",
    "\n",
    "                # statistics\n",
    "                running_loss += loss.data[0] * inputs.size(0)\n",
    "                running_corrects += torch.sum(preds == labels.data)\n",
    "\n",
    "            epoch_loss = running_loss / dataset_sizes[phase]\n",
    "            epoch_acc = running_corrects / dataset_sizes[phase]\n",
    "\n",
    "            print('{} Loss: {:.4f} Acc: {:.4f}'.format(\n",
    "                phase, epoch_loss, epoch_acc))\n",
    "\n",
    "            # deep copy the model\n",
    "            if phase == 'val' and epoch_acc > best_acc:\n",
    "                best_acc = epoch_acc\n",
    "                best_model_wts = copy.deepcopy(model.state_dict())\n",
    "\n",
    "        print()\n",
    "\n",
    "    time_elapsed = time.time() - since\n",
    "    print('Training complete in {:.0f}m {:.0f}s'.format(\n",
    "        time_elapsed // 60, time_elapsed % 60))\n",
    "    print('Best val Acc: {:4f}'.format(best_acc))\n",
    "\n",
    "    # load best model weights\n",
    "    model.load_state_dict(best_model_wts)\n",
    "    return model"
   ]
  },
  {
   "cell_type": "markdown",
   "metadata": {},
   "source": [
    "## Data Augmentation"
   ]
  },
  {
   "cell_type": "code",
   "execution_count": null,
   "metadata": {},
   "outputs": [],
   "source": [
    "tfms = tfms_from_model(resnet34, sz, aug_tfms=transforms_side_on, max_zoom=1.1)"
   ]
  },
  {
   "cell_type": "code",
   "execution_count": null,
   "metadata": {},
   "outputs": [],
   "source": [
    "data = ImageClassifierData.from_csv(PATH, PATH+'train', PATH+'labels.csv', val_idxs=val_idxs, test_name='test', suffix='.jpg', tfms=tfms)"
   ]
  },
  {
   "cell_type": "code",
   "execution_count": null,
   "metadata": {},
   "outputs": [],
   "source": [
    "learn = ConvLearner.pretrained(arch, data, precompute=True)"
   ]
  },
  {
   "cell_type": "code",
   "execution_count": null,
   "metadata": {},
   "outputs": [],
   "source": [
    "learn.fit(0.15, 5, cycle_len=1)"
   ]
  },
  {
   "cell_type": "code",
   "execution_count": null,
   "metadata": {},
   "outputs": [],
   "source": [
    "learn.unfreeze()"
   ]
  },
  {
   "cell_type": "code",
   "execution_count": null,
   "metadata": {},
   "outputs": [],
   "source": [
    "lr=np.array([0.001,0.01,0.1])"
   ]
  },
  {
   "cell_type": "code",
   "execution_count": null,
   "metadata": {},
   "outputs": [],
   "source": [
    "learn.fit(lr, 3, cycle_len=1, cycle_mult=2)"
   ]
  },
  {
   "cell_type": "code",
   "execution_count": null,
   "metadata": {},
   "outputs": [],
   "source": [
    "learn.sched.plot_lr()"
   ]
  },
  {
   "cell_type": "code",
   "execution_count": null,
   "metadata": {},
   "outputs": [],
   "source": [
    "log_preds, y = learn.TTA()\n",
    "probs = np.mean(np.exp(log_preds),0)"
   ]
  },
  {
   "cell_type": "code",
   "execution_count": null,
   "metadata": {},
   "outputs": [],
   "source": [
    "from sklearn.metrics import log_loss"
   ]
  },
  {
   "cell_type": "code",
   "execution_count": null,
   "metadata": {},
   "outputs": [],
   "source": [
    "np.argmax(probs, 1)"
   ]
  },
  {
   "cell_type": "code",
   "execution_count": null,
   "metadata": {},
   "outputs": [],
   "source": [
    "log_preds_test, y_test = learn.TTA(is_test=True)"
   ]
  },
  {
   "cell_type": "code",
   "execution_count": null,
   "metadata": {},
   "outputs": [],
   "source": [
    "losses = []\n",
    "for eps in [1e-6, 2e-6, 4e-6, 8e-6, 1e-5, 2e-5, 3e-5, 4e-5, 5e-5, 1e-4]:\n",
    "    losses.append((eps, log_loss(np.array(learn.data.classes)[np.array(learn.data.val_ds.y)], probs, eps=eps)))"
   ]
  },
  {
   "cell_type": "code",
   "execution_count": null,
   "metadata": {},
   "outputs": [],
   "source": [
    "losses"
   ]
  },
  {
   "cell_type": "code",
   "execution_count": null,
   "metadata": {},
   "outputs": [],
   "source": [
    "probs_test = np.mean(np.exp(log_preds_test),0)"
   ]
  },
  {
   "cell_type": "code",
   "execution_count": null,
   "metadata": {},
   "outputs": [],
   "source": [
    "probs_test.shape"
   ]
  },
  {
   "cell_type": "code",
   "execution_count": null,
   "metadata": {},
   "outputs": [],
   "source": [
    "df = pd.DataFrame(probs_test, index=[x.split('/')[1].split('.')[0] for x in data.test_ds.fnames], columns = data.classes)"
   ]
  },
  {
   "cell_type": "code",
   "execution_count": null,
   "metadata": {},
   "outputs": [],
   "source": [
    "df"
   ]
  }
 ],
 "metadata": {
  "kernelspec": {
   "display_name": "ds",
   "language": "python",
   "name": "ds"
  },
  "language_info": {
   "codemirror_mode": {
    "name": "ipython",
    "version": 3
   },
   "file_extension": ".py",
   "mimetype": "text/x-python",
   "name": "python",
   "nbconvert_exporter": "python",
   "pygments_lexer": "ipython3",
   "version": "3.6.4"
  },
  "toc": {
   "nav_menu": {},
   "number_sections": true,
   "sideBar": true,
   "skip_h1_title": false,
   "toc_cell": false,
   "toc_position": {},
   "toc_section_display": "block",
   "toc_window_display": false
  }
 },
 "nbformat": 4,
 "nbformat_minor": 2
}
